{
 "cells": [
  {
   "attachments": {},
   "cell_type": "markdown",
   "metadata": {},
   "source": [
    "# 2R Roboter\n",
    "\n",
    "## Simulation nichtlineares Modell ohne Eingang"
   ]
  },
  {
   "cell_type": "code",
   "execution_count": 1,
   "metadata": {},
   "outputs": [],
   "source": [
    "\"\"\"\n",
    "Date: 20.12.2022\n",
    "Author: Kaufmann Stefan\n",
    "\n",
    "Robot Control - Simulation 2R Roboter \n",
    "\"\"\"\n",
    "\n",
    "# Load Robotermodell\n",
    "import numpy as np\n",
    "from scipy.integrate import odeint,solve_ivp\n",
    "import matplotlib.pyplot as plt\n",
    "from Model import model_nlin, model_nlin_ext\n",
    "#from Parameter  import *\n",
    "\n",
    "\n",
    "\n",
    "def eingang(x,t,k=[1,1]):\n",
    "    \"\"\" System Input\n",
    "        Params\n",
    "         --------\n",
    "        x:             steady states as [x1,x2]\n",
    "        t:             time as int\n",
    "        k:             Controler Gain k = [k1,k2]   mit k1,k2 > 0       \n",
    "                              \n",
    "\n",
    "        Returns\n",
    "        --------\n",
    "        u:              System input   \n",
    "                \n",
    "    \"\"\"\n",
    "    k1 = k[0]\n",
    "    k2 = k[1]\n",
    "    x1 = x[0]\n",
    "    x2 = x[1]\n",
    "\n",
    "    #u = -k2*(x2+k1)-x1-x1**2  # Version 1\n",
    "    u = -k2*(x2+k1*(x1**2)) - x1 -x1**2 -2*k1*x1**2*(x2+k1*x1**2)\n",
    "\n",
    "    return u \n",
    "\n"
   ]
  },
  {
   "cell_type": "code",
   "execution_count": 2,
   "metadata": {},
   "outputs": [
    {
     "data": {
      "image/png": "[encoded data removed]",
      "text/plain": [
       "<Figure size 432x288 with 1 Axes>"
      ]
     },
     "metadata": {
      "needs_background": "light"
     },
     "output_type": "display_data"
    }
   ],
   "source": [
    "from Model import model_nlin, model_nlin_ext\n",
    "# set the initial conditions\n",
    "x0=[-np.pi/2,0,0,np.pi/4]\n",
    "\n",
    "# define the discretization points\n",
    "t_start = 0\n",
    "t_stop = 10\n",
    "dt = 1e-3\n",
    "\n",
    "t_sim=np.linspace(t_start, t_stop, int((t_stop - t_start) / dt + 1))\n",
    "\n",
    "\n",
    "#scipy.integrate.solve_ivp(fun, t_span, y0, method='RK45', t_eval=None, dense_output=False, events=None, vectorized=False, args=None, **options)\n",
    "\n",
    "#solutionOde=odeint(model_nlin,x0,t_sim)\n",
    "solOde=solve_ivp(model_nlin_ext,[t_start,t_stop],x0,method = 'RK45',t_eval = t_sim)\n",
    "\n",
    "\n",
    "plt.plot(solOde.t, solOde.y[0]*180/np.pi, 'b', label='q_1')\n",
    "plt.plot(solOde.t, solOde.y[2]*180/np.pi, 'g', label='q_2')\n",
    "plt.legend(loc='best')\n",
    "plt.xlabel('time')\n",
    "#plt.ylabel('q1(t), q2(t)')\n",
    "plt.grid()\n",
    "#plt.savefig('simulation.png')\n",
    "plt.show()"
   ]
  },
  {
   "attachments": {},
   "cell_type": "markdown",
   "metadata": {},
   "source": [
    "# Vorsteuerung"
   ]
  },
  {
   "cell_type": "code",
   "execution_count": null,
   "metadata": {},
   "outputs": [],
   "source": [
    "from Vorsteuerung import *\n",
    "#from Parameter  import *\n",
    "\n",
    "u = flat_output(t_stop,t_sim,3,np.pi/2,0)\n",
    "\n",
    "plt.plot(t_sim,u[0,:])\n",
    "plt.plot(t_sim,u[1,:])\n",
    "plt.plot(t_sim,u[2,:])\n",
    "plt.legend(['q','q_d','q_dd'])\n",
    "plt.grid()\n",
    "plt.show()\n",
    "\n",
    "\n",
    "\n"
   ]
  },
  {
   "attachments": {},
   "cell_type": "markdown",
   "metadata": {},
   "source": [
    "## inverse Dynamik"
   ]
  },
  {
   "cell_type": "code",
   "execution_count": null,
   "metadata": {},
   "outputs": [],
   "source": [
    "# set the initial conditions\n",
    "x0=[np.pi/2,0,0,np.pi/4]\n",
    "\n",
    "\n",
    "\n",
    "solutionOde=odeint(model_nlin,x0,t_sim)\n",
    "\n",
    "plt.plot(t_sim, solutionOde[:, 0], 'b', label='q_1')\n",
    "plt.plot(t_sim, solutionOde[:, 2], 'g', label='q_2')\n",
    "plt.legend(loc='best')\n",
    "plt.xlabel('time')\n",
    "plt.ylabel('q1(t), q2(t)')\n",
    "plt.grid()\n",
    "#plt.savefig('simulation.png')\n",
    "plt.show()"
   ]
  }
 ],
 "metadata": {
  "kernelspec": {
   "display_name": "Python 3",
   "language": "python",
   "name": "python3"
  },
  "language_info": {
   "codemirror_mode": {
    "name": "ipython",
    "version": 3
   },
   "file_extension": ".py",
   "mimetype": "text/x-python",
   "name": "python",
   "nbconvert_exporter": "python",
   "pygments_lexer": "ipython3",
   "version": "3.10.6"
  },
  "orig_nbformat": 4,
  "vscode": {
   "interpreter": {
    "hash": "916dbcbb3f70747c44a77c7bcd40155683ae19c65e1c03b4aa3499c5328201f1"
   }
  }
 },
 "nbformat": 4,
 "nbformat_minor": 2
}
