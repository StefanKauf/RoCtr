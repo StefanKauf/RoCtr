{
 "cells": [
  {
   "attachments": {},
   "cell_type": "markdown",
   "metadata": {},
   "source": [
    "# 2R Roboter\n",
    "\n",
    "## Simulation nichtlineares Modell ohne Eingang"
   ]
  },
  {
   "cell_type": "code",
   "execution_count": null,
   "metadata": {},
   "outputs": [],
   "source": [
    "\"\"\"\n",
    "Date: 20.12.2022\n",
    "Author: Kaufmann Stefan\n",
    "\n",
    "Robot Control - Simulation 2R Roboter \n",
    "\"\"\"\n",
    "\n",
    "# Load Robotermodell\n",
    "import numpy as np\n",
    "from scipy.integrate import odeint\n",
    "import matplotlib.pyplot as plt\n",
    "from Model import model_nlin\n",
    "\n",
    "\n",
    "\n",
    "def eingang(x,t,k=[1,1]):\n",
    "    \"\"\" System Input\n",
    "        Params\n",
    "         --------\n",
    "        x:             steady states as [x1,x2]\n",
    "        t:             time as int\n",
    "        k:             Controler Gain k = [k1,k2]   mit k1,k2 > 0       \n",
    "                              \n",
    "\n",
    "        Returns\n",
    "        --------\n",
    "        u:              System input   \n",
    "                \n",
    "    \"\"\"\n",
    "    k1 = k[0]\n",
    "    k2 = k[1]\n",
    "    x1 = x[0]\n",
    "    x2 = x[1]\n",
    "\n",
    "    #u = -k2*(x2+k1)-x1-x1**2  # Version 1\n",
    "    u = -k2*(x2+k1*(x1**2)) - x1 -x1**2 -2*k1*x1**2*(x2+k1*x1**2)\n",
    "\n",
    "    return u \n",
    "\n"
   ]
  },
  {
   "cell_type": "code",
   "execution_count": null,
   "metadata": {},
   "outputs": [],
   "source": [
    "# set the initial conditions\n",
    "x0=[np.pi/2,0,0,np.pi/4]\n",
    "\n",
    "# define the discretization points\n",
    "t_start = 0\n",
    "t_stop = 10\n",
    "dt = 1e-3\n",
    "\n",
    "t_sim=np.linspace(t_start, t_stop, int((t_stop - t_start) / dt + 1))\n",
    "\n",
    "\n",
    "\n",
    "solutionOde=odeint(model_nlin,x0,t_sim)\n",
    "\n",
    "plt.plot(t_sim, solutionOde[:, 0], 'b', label='q_1')\n",
    "plt.plot(t_sim, solutionOde[:, 2], 'g', label='q_2')\n",
    "plt.legend(loc='best')\n",
    "plt.xlabel('time')\n",
    "plt.ylabel('q1(t), q2(t)')\n",
    "plt.grid()\n",
    "#plt.savefig('simulation.png')\n",
    "plt.show()"
   ]
  }
 ],
 "metadata": {
  "kernelspec": {
   "display_name": "Python 3",
   "language": "python",
   "name": "python3"
  },
  "language_info": {
   "name": "python",
   "version": "3.10.6 (main, Nov 14 2022, 16:10:14) [GCC 11.3.0]"
  },
  "orig_nbformat": 4,
  "vscode": {
   "interpreter": {
    "hash": "916dbcbb3f70747c44a77c7bcd40155683ae19c65e1c03b4aa3499c5328201f1"
   }
  }
 },
 "nbformat": 4,
 "nbformat_minor": 2
}
